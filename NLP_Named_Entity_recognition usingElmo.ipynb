{
 "cells": [
  {
   "cell_type": "markdown",
   "metadata": {
    "colab_type": "text",
    "id": "yPrXZOgxnKol"
   },
   "source": [
    "# **Objective**\n",
    "\n",
    "A online recipe website that you work in wants to automatically suggest tags to users who regularly share recipes (in text form) in their website. Your company's data team has already prepared a dataset with annotations (see attached) and your AI team is exploring the use of more modern neural network architectures for Named Entity Recognition.\n",
    "\n",
    "In particular, ELmo Embedding is what your AI team lead feel might be a good balance between accuracy and affordable GPU resource usage compared to the traditional models such as Word2Vec or GLoVE embeddings. \n",
    "\n",
    "Your lead has assigned you to look into it and has passed you a Notebook template. You'll have to adapt the Colab Notebook to process the dataset, create a Keras model with ELmo Embedding, train the model, evaluate the performance, perform your own testing of the model, and save the model.\n",
    "\n",
    "\n",
    "---\n",
    "\n",
    "\n",
    "## A2.0 Preparation\n",
    "\n",
    "In this section we will train our Entity Recognition Model using Elmo Embedding.\n",
    "\n",
    "Before starting, upload the two files:\n",
    "- restauranttest.bio.txt\n",
    "- restauranttrain.bio.txt\n",
    "\n",
    "to your Google Drive in the **/Data/A2** folder\n",
    "\n",
    "\n"
   ]
  },
  {
   "cell_type": "markdown",
   "metadata": {
    "colab_type": "text",
    "id": "O-U-3QlcG7Wf"
   },
   "source": [
    "## A2.1 Mount Google Drive\n",
    "\n",
    "Run the following cell, as is, to mount Google Drive.\n"
   ]
  },
  {
   "cell_type": "code",
   "execution_count": 0,
   "metadata": {
    "colab": {
     "base_uri": "https://localhost:8080/",
     "height": 120
    },
    "colab_type": "code",
    "executionInfo": {
     "elapsed": 24839,
     "status": "ok",
     "timestamp": 1582453234841,
     "user": {
      "displayName": "padmapriya s",
      "photoUrl": "",
      "userId": "00004377721832553343"
     },
     "user_tz": -480
    },
    "id": "giDe0DB_nNeN",
    "outputId": "7c34c0ea-4925-4424-870c-ab0134de44ba"
   },
   "outputs": [
    {
     "name": "stdout",
     "output_type": "stream",
     "text": [
      "Go to this URL in a browser: https://accounts.google.com/o/oauth2/auth?client_id=947318989803-6bn6qk8qdgf4n4g3pfee6491hc0brc4i.apps.googleusercontent.com&redirect_uri=urn%3aietf%3awg%3aoauth%3a2.0%3aoob&response_type=code&scope=email%20https%3a%2f%2fwww.googleapis.com%2fauth%2fdocs.test%20https%3a%2f%2fwww.googleapis.com%2fauth%2fdrive%20https%3a%2f%2fwww.googleapis.com%2fauth%2fdrive.photos.readonly%20https%3a%2f%2fwww.googleapis.com%2fauth%2fpeopleapi.readonly\n",
      "\n",
      "Enter your authorization code:\n",
      "··········\n",
      "Mounted at /content/drive\n"
     ]
    }
   ],
   "source": [
    "from google.colab import drive\n",
    "drive.mount('/content/drive')"
   ]
  },
  {
   "cell_type": "markdown",
   "metadata": {
    "colab_type": "text",
    "id": "PAhH7-g9YVOi"
   },
   "source": [
    "## A2.2 List the Files in the Data/A2 Folder\n",
    "\n",
    "Run the following cell to list the files in your folder. Be sure to have uploaded your .npy files from Part 1 of the Assignment to this folder."
   ]
  },
  {
   "cell_type": "code",
   "execution_count": 0,
   "metadata": {
    "colab": {
     "base_uri": "https://localhost:8080/",
     "height": 50
    },
    "colab_type": "code",
    "executionInfo": {
     "elapsed": 29545,
     "status": "ok",
     "timestamp": 1582453239585,
     "user": {
      "displayName": "padmapriya s",
      "photoUrl": "",
      "userId": "00004377721832553343"
     },
     "user_tz": -480
    },
    "id": "S3Xc6lGe3lBo",
    "outputId": "18ec33e5-2d8a-44b6-d127-adc532288cf5"
   },
   "outputs": [
    {
     "name": "stdout",
     "output_type": "stream",
     "text": [
      " restauranttest.bio.txt   'train_2020-02-14 17-00-24'\n",
      " restauranttrain.bio.txt  'train_2020-02-14 17-00-55'\n"
     ]
    }
   ],
   "source": [
    "!ls /content/drive/My\\ Drive/Data/A2"
   ]
  },
  {
   "cell_type": "markdown",
   "metadata": {
    "colab_type": "text",
    "id": "0pFJh8gMP0B-"
   },
   "source": [
    "## A2.3 Import Libraries\n",
    "\n",
    "Run the following cell, as is, to import the necessary libraries."
   ]
  },
  {
   "cell_type": "code",
   "execution_count": 0,
   "metadata": {
    "colab": {
     "base_uri": "https://localhost:8080/",
     "height": 62
    },
    "colab_type": "code",
    "executionInfo": {
     "elapsed": 31041,
     "status": "ok",
     "timestamp": 1582453241100,
     "user": {
      "displayName": "padmapriya s",
      "photoUrl": "",
      "userId": "00004377721832553343"
     },
     "user_tz": -480
    },
    "id": "KukSiHWwUuhc",
    "outputId": "97e03843-b07a-4962-972f-35bd54688990"
   },
   "outputs": [
    {
     "data": {
      "text/html": [
       "<p style=\"color: red;\">\n",
       "The default version of TensorFlow in Colab will soon switch to TensorFlow 2.x.<br>\n",
       "We recommend you <a href=\"https://www.tensorflow.org/guide/migrate\" target=\"_blank\">upgrade</a> now \n",
       "or ensure your notebook will continue to use TensorFlow 1.x via the <code>%tensorflow_version 1.x</code> magic:\n",
       "<a href=\"https://colab.research.google.com/notebooks/tensorflow_version.ipynb\" target=\"_blank\">more info</a>.</p>\n"
      ],
      "text/plain": [
       "<IPython.core.display.HTML object>"
      ]
     },
     "metadata": {
      "tags": []
     },
     "output_type": "display_data"
    }
   ],
   "source": [
    "import os\n",
    "import numpy as np\n",
    "import tensorflow as tf\n",
    "import tensorflow.keras\n",
    "import tensorflow_hub as hub\n",
    "\n",
    "from datetime import datetime\n",
    "from tensorflow.keras import backend as K\n",
    "import tensorflow.keras as keras\n",
    "import tensorflow.keras.layers as layers\n",
    "from tensorflow.keras.models import Model, load_model, Sequential\n",
    "from tensorflow.keras.layers import Layer, Dense, Activation, Input, Bidirectional, Dropout, LSTM, TimeDistributed, Masking\n",
    "from tensorflow.keras.preprocessing.sequence import pad_sequences\n",
    "from tensorflow.keras.preprocessing.text import Tokenizer, text_to_word_sequence\n",
    "from tensorflow.keras.utils import to_categorical\n",
    "\n",
    "folder = \"/content/drive/My Drive/Data/A2/\"\n"
   ]
  },
  {
   "cell_type": "markdown",
   "metadata": {
    "colab_type": "text",
    "id": "q8RjEtnrHBDY"
   },
   "source": [
    "## A2.4 Set Maximum Sentence Length \n",
    "\n",
    "Set the maximum sentence length to a suitable value. You can try setting this to a smaller value later, once you've loaded and processed the files and determined what the maximum number of words per sentence is.\n",
    "\n",
    "The following is an example of how you would set the max sentence length variables:\n",
    "\n",
    "```\n",
    "    max_seq_length = 500\n",
    "```"
   ]
  },
  {
   "cell_type": "code",
   "execution_count": 0,
   "metadata": {
    "colab": {},
    "colab_type": "code",
    "id": "qoqxHdZnE3vk"
   },
   "outputs": [],
   "source": [
    "import pandas as pd\n",
    "# TODO:\n",
    "# Set the maximum number of words per sentence.\n",
    "#\n",
    "#.............CODES START HERE.............#\n",
    "\n",
    "max_seq_length = 500\n",
    "\n",
    "#.............CODES END HERE.............#\n",
    "\n"
   ]
  },
  {
   "cell_type": "markdown",
   "metadata": {
    "colab_type": "text",
    "id": "HoOT5Lujm9ak"
   },
   "source": [
    "## A2.5 Set the Entity-to-Index Mapping \n",
    "\n",
    "Set the entity-to-index mapping.\n",
    "\n",
    "This should be a dictionary of unique entity values to an index in a one-hot vector that you want to set.\n",
    "\n",
    "To take reference from the Practical 9, the entity-to-index for that set of data was declared as such:\n",
    "\n",
    "```\n",
    "    entity_to_index = {'O': 0, \n",
    "                        'B-ORG': 1, \n",
    "                        'I-ORG': 2, \n",
    "                        'B-MISC': 3, \n",
    "                        'I-MISC': 4, \n",
    "                        'B-PER': 5, \n",
    "                        'I-PER': 6, \n",
    "                        'B-LOC': 7, \n",
    "                        'I-LOC': 8 }\n",
    "```\n",
    "\n",
    "What is an easy to determine the list of unique values from the data set? There are many tools available at your disposable, include codes in this assignment. "
   ]
  },
  {
   "cell_type": "code",
   "execution_count": 0,
   "metadata": {
    "colab": {},
    "colab_type": "code",
    "id": "XKbp0S-jncPl"
   },
   "outputs": [],
   "source": [
    "# TODO:\n",
    "# Construct a list of I- O- B- annotations and the indexes that will help \n",
    "# form our intent classification one-hot vector later on.\n",
    "#\n",
    "\n",
    "#.............CODES START HERE.............#\n",
    "entity_to_index = {'O': 0, \n",
    "                     'B-Rating': 1, \n",
    "                     'I-Rating': 2, \n",
    "                     'B-Amenity': 3, \n",
    "                     'I-Amenity': 4, \n",
    "                     'B-Location': 5, \n",
    "                     'I-Location': 6, \n",
    "                     'B-Price': 7, \n",
    "                     'I-Price': 8,\n",
    "                     'B-Hours': 9, \n",
    "                     'I-Hours': 10, \n",
    "                     'B-Restaurant_Name': 11, \n",
    "                     'I-Restaurant_Name': 12, \n",
    "                     'B-Dish': 13, \n",
    "                     'I-Dish': 14, \n",
    "                     'B-Cuisine': 15, \n",
    "                     'I-Cuisine': 16  }\n",
    "#.............CODES END HERE.............#"
   ]
  },
  {
   "cell_type": "markdown",
   "metadata": {
    "colab_type": "text",
    "id": "2yYMi_2aHZ0a"
   },
   "source": [
    "## A2.6 Declare the Method to Process File\n",
    "\n",
    "Run the following code, as is, to declare the method to process the file.\n",
    "\n",
    "*NOTE: This code is not entirely the same as the one provided in Practical 9.*"
   ]
  },
  {
   "cell_type": "code",
   "execution_count": 0,
   "metadata": {
    "colab": {},
    "colab_type": "code",
    "id": "pAsXFeaDE7Rx"
   },
   "outputs": [],
   "source": [
    "# Process a file and return the following two arrays:\n",
    "#\n",
    "#   x - (num_sentences, max_words)\n",
    "#       A Numpy array of strings.\n",
    "#\n",
    "#   y - (num_sentences, classes)\n",
    "#       A Numpy array of floats (one-hot encoding of the classes)\n",
    "#\n",
    "def process_file(filepath, max_words_per_sentence):\n",
    "    f = open(os.path.join(filepath), encoding='utf8')\n",
    "    \n",
    "    sentences_words = []\n",
    "    sentences_entities = []\n",
    "    sentence_words = []\n",
    "    sentence_entities = []\n",
    "    \n",
    "    for line in f:\n",
    "        line = line.strip()\n",
    "        \n",
    "        # Once we reach an empty, this indicates the end\n",
    "        # of a sentence, and we will append the current\n",
    "        # word and entity list to the bigger list.\n",
    "        #\n",
    "        if line == \"\":\n",
    "            if len(sentence_words) > 0:\n",
    "                sentences_words.append(sentence_words)\n",
    "                sentences_entities.append(sentence_entities)\n",
    "                \n",
    "            # Clear the current word and entity list\n",
    "            sentence_words = []\n",
    "            sentence_entities = []\n",
    "            \n",
    "            # End this line and proceed to the next line immediately\n",
    "            #\n",
    "            continue\n",
    "            \n",
    "        # Get the line of text \n",
    "        word_list = line.split()\n",
    "        \n",
    "        # The second element contains the word\n",
    "        word = word_list[1].lower()\n",
    "        \n",
    "        # The first element contains the entity\n",
    "        entity = word_list[0]\n",
    "\n",
    "        if word != \"n't\":\n",
    "            \n",
    "            # Add the word to a list\n",
    "            sentence_words.append(word)\n",
    "\n",
    "            # Add the entity to a list\n",
    "            sentence_entities.append(entity)\n",
    "            \n",
    "        else:\n",
    "            \n",
    "            if len(sentence_words) > 0:\n",
    "                \n",
    "                # Add the \"n't\" to the previous word\n",
    "                sentence_words[len(sentence_words) - 1] += word\n",
    "\n",
    "    \n",
    "    # Once the loop ends, add the current word list and entity\n",
    "    # list to the bigger list.\n",
    "    #\n",
    "    if len(sentence_words) > 0:\n",
    "        sentences_words.append(sentence_words)\n",
    "        sentences_entities.append(sentence_entities)\n",
    "    \n",
    "    f.close()    \n",
    "    \n",
    "    # Perform padding\n",
    "    #\n",
    "    max_sentence_len_in_this_dataset = len(max(sentences_words, key=lambda x: len(x)))\n",
    "    print (\"The max sentence length in this dataset = %d\" % max_sentence_len_in_this_dataset)\n",
    "    \n",
    "    sentences_words = pad_sequences(sentences_words, maxlen=max_words_per_sentence, dtype=object, padding='post', value=\"--PAD--\")\n",
    "    sentences_entities = pad_sequences(sentences_entities, maxlen=max_words_per_sentence, dtype=object, padding='post', value=\"O\")\n",
    "        \n",
    "    # run one-hot encoding\n",
    "    #\n",
    "    entity_size = len(entity_to_index)\n",
    "    sentences_entities = [[to_categorical(entity_to_index[word], entity_size) for word in sentence] for sentence in sentences_entities]\n",
    "    \n",
    "    return sentences_words, sentences_entities        \n",
    "\n"
   ]
  },
  {
   "cell_type": "markdown",
   "metadata": {
    "colab_type": "text",
    "id": "rvQ_otosGFRd"
   },
   "source": [
    "## A2.7 Load and Process Your Data \n",
    "\n",
    "Modify the following cell below to call the **process_file** method to load and process your data and save it into the following 4 variables:\n",
    "\n",
    "- x_train\n",
    "- y_train\n",
    "- x_test\n",
    "- y_test\n",
    "\n",
    "If you do this correctly, the shape from your variables should look like the following:\n",
    "```\n",
    "    x_train.shape: (7660, ###)\n",
    "    y_train.shape: (7660, ###, 17)\n",
    "    x_test.shape:  (1521, ###)\n",
    "    y_test.shape:  (1521, ###, 17)\n",
    "```\n",
    "\n",
    "*NOTE: The ### is your max sentence length*"
   ]
  },
  {
   "cell_type": "code",
   "execution_count": 0,
   "metadata": {
    "colab": {
     "base_uri": "https://localhost:8080/",
     "height": 116
    },
    "colab_type": "code",
    "executionInfo": {
     "elapsed": 35653,
     "status": "ok",
     "timestamp": 1582453245752,
     "user": {
      "displayName": "padmapriya s",
      "photoUrl": "",
      "userId": "00004377721832553343"
     },
     "user_tz": -480
    },
    "id": "G0DwhrUYE--x",
    "outputId": "ed37d285-9585-400e-a9e3-ad9829fbd632"
   },
   "outputs": [
    {
     "name": "stdout",
     "output_type": "stream",
     "text": [
      "The max sentence length in this dataset = 35\n",
      "The max sentence length in this dataset = 26\n",
      "(7660, 36)\n",
      "(7660, 36, 17)\n",
      "(1521, 36)\n",
      "(1521, 36, 17)\n"
     ]
    }
   ],
   "source": [
    "# TODO:\n",
    "# Call the process_file method to load and retrieve the data from the \n",
    "# restauranttrain.bio.txt and restauranttest.bio.txt dataset.\n",
    "#\n",
    "# After that, save it into 4 numpy arrays:\n",
    "#   x_train, y_train\n",
    "#   x_test, y_test\n",
    "#\n",
    "#.............CODES START HERE.............#\n",
    "data_folder = '/content/drive/My Drive/Data/A2/'\n",
    "sentences_words, sentences_entities = process_file(data_folder + 'restauranttrain.bio.txt',36)\n",
    "\n",
    "x_train = np.array(sentences_words)\n",
    "y_train = np.array(sentences_entities)\n",
    "\n",
    "sentences_words, sentences_entities = process_file(data_folder + 'restauranttest.bio.txt',36)\n",
    "\n",
    "x_test = np.array(sentences_words)\n",
    "y_test = np.array(sentences_entities)\n",
    "\n",
    "\n",
    "#.............CODES END HERE.............#\n",
    "\n",
    "print(x_train.shape)\n",
    "print(y_train.shape)\n",
    "print(x_test.shape)\n",
    "print(y_test.shape)\n"
   ]
  },
  {
   "cell_type": "markdown",
   "metadata": {
    "colab_type": "text",
    "id": "Kkcg6hzyP6uf"
   },
   "source": [
    "## A2.8 Create Our ELMo Embedding Layer\n",
    "\n",
    "The pre-trained ELMo Embedding Layer is currently hosted on Tensorflow Hub and will be downloaded through the Tensorflow Hub as a Tensorflow graph.\n",
    "\n",
    "We then wrap it around an ElmoEmbeddingLayer class that we can these use in our Keras layers. See the following for reference on how to wrap ELMo in a Keras layer:\n",
    "- https://towardsdatascience.com/elmo-embeddings-in-keras-with-tensorflow-hub-7eb6f0145440\n",
    "\n",
    "*NOTE: Do **NOT** modify the codes in the cell below*\n",
    "\n"
   ]
  },
  {
   "cell_type": "code",
   "execution_count": 0,
   "metadata": {
    "colab": {},
    "colab_type": "code",
    "id": "R7LOvrBGUYhg"
   },
   "outputs": [],
   "source": [
    "# Initialize the Tensorflow session.\n",
    "#\n",
    "# This is required because we are using pre-built/trained models downloaded \n",
    "# from Tensorflow Hub, which creates a Tensorflow graph to represent\n",
    "# the model.\n",
    "#\n",
    "# See https://www.tensorflow.org/hub to find out more about\n",
    "# Tensorflow Hub.\n",
    "#\n",
    "sess = tf.Session()\n",
    "K.set_session(sess)\n",
    "\n",
    "# This is our custom Keras layer to wrap the ELMo embedding layer\n",
    "# downloaded from Tensorflow hub. Once this Keras layer is declared\n",
    "# it can be inserted into our own Keras model later on.\n",
    "#\n",
    "class ElmoEmbeddingLayer(Layer):\n",
    "    def __init__(self, **kwargs):\n",
    "        self.dimensions = 1024\n",
    "        self.trainable = True\n",
    "        super(ElmoEmbeddingLayer, self).__init__(**kwargs)\n",
    "\n",
    "    def build(self, input_shape):\n",
    "        self.elmo = hub.Module('https://tfhub.dev/google/elmo/3', trainable=self.trainable,\n",
    "                               name=\"{}_module\".format(self.name))\n",
    "        \n",
    "        # The ELmo Embedding has LSTM and CNN layers where the weights\n",
    "        # should be frozen, but it has 4 others weights (as described\n",
    "        # in ELmo's paper), which we will inform Keras that these weights \n",
    "        # are trainable.\n",
    "        #\n",
    "        self._trainable_weights += tf.trainable_variables(scope=\"^\" + self.name + \"_module/.*\")\n",
    "        super(ElmoEmbeddingLayer, self).build(input_shape)\n",
    "\n",
    "    def call(self, x):\n",
    "        sequence_lengths = tf.cast(tf.count_nonzero(x, axis=1), dtype=tf.int32)\n",
    "       \n",
    "        inputs = {\n",
    "            \"tokens\": x,\n",
    "            \"sequence_len\": sequence_lengths\n",
    "        }\n",
    "        return self.elmo(inputs, signature=\"tokens\", as_dict=True)[\"elmo\"]\n",
    "\n",
    "    def compute_mask(self, inputs, mask=None):\n",
    "        return K.not_equal(inputs, '--PAD--')\n",
    "\n",
    "    def compute_output_shape(self, input_shape):\n",
    "        return (input_shape[0], self.dimensions)\n",
    "\n",
    "\n"
   ]
  },
  {
   "cell_type": "markdown",
   "metadata": {
    "colab_type": "text",
    "id": "DkaGcSpeVSka"
   },
   "source": [
    "## A2.9 Design and Create Your Own Model \n",
    "\n",
    "Write the code to design and create your own model. We are going to use the Elmo Embedding Layer in between your Input layer and any layers that you like to appear after.\n",
    "\n",
    "You **must** have at least 1 LSTM layer.\n",
    "\n",
    "*HINT: The following link https://towardsdatascience.com/elmo-embeddings-in-keras-with-tensorflow-hub-7eb6f0145440 shows an example of how to use ElmoEmbeddingLayer in your model. If you have a look at the ElmoEmbeddingLayer code above, it already generates a mask for the next LSTM layer, so you do NOT need a separate Masking layer*\n",
    "\n"
   ]
  },
  {
   "cell_type": "code",
   "execution_count": 0,
   "metadata": {
    "colab": {
     "base_uri": "https://localhost:8080/",
     "height": 33
    },
    "colab_type": "code",
    "executionInfo": {
     "elapsed": 36100,
     "status": "ok",
     "timestamp": 1582453246208,
     "user": {
      "displayName": "padmapriya s",
      "photoUrl": "",
      "userId": "00004377721832553343"
     },
     "user_tz": -480
    },
    "id": "2gXF__HTDkVQ",
    "outputId": "29f2c9e9-cbe2-45f6-a39e-293a0f434398"
   },
   "outputs": [
    {
     "name": "stderr",
     "output_type": "stream",
     "text": [
      "Using TensorFlow backend.\n"
     ]
    }
   ],
   "source": [
    "from keras.layers.merge import add\n",
    "def create_model():\n",
    "    # TODO:\n",
    "    #.............CODES START HERE.............#\n",
    "    input_text = layers.Input(shape=(36,), dtype=tf.string)\n",
    "    embedding = ElmoEmbeddingLayer()(input_text)\n",
    "    x = Bidirectional(LSTM(units=512, return_sequences=True,\n",
    "                       recurrent_dropout=0.2, dropout=0.2))(embedding)\n",
    "    \n",
    "    #x_rnn = Bidirectional(LSTM(units=512, return_sequences=True, recurrent_dropout=0.2, dropout=0.2))(x)\n",
    "    #x = add([x, x_rnn])  # residual connection to the first biLSTM\n",
    "    out = TimeDistributed(Dense(len(entity_to_index), activation=\"softmax\"))(x)\n",
    "\n",
    "    model = Model(input_text, out)\n",
    "    model.compile(optimizer=\"adam\", loss=\"categorical_crossentropy\", metrics=[\"accuracy\"])\n",
    "    #.............CODES END HERE.............#\n",
    "\n",
    "    # You must keep the following line to initialize all \n",
    "    # Tensorflow variables.\n",
    "    #\n",
    "    sess.run(tf.global_variables_initializer())\n",
    "    return model\n",
    "  "
   ]
  },
  {
   "cell_type": "markdown",
   "metadata": {
    "colab_type": "text",
    "id": "lCpXrtH1WrAq"
   },
   "source": [
    "## A2.10 Create and Train Model \n",
    "\n",
    "Create and then train your LSTM model. \n",
    "\n",
    "Ensure that you compute and pass in your class weights to Keras for the training. You can consider running this for **3 epochs or more**. \n",
    "\n",
    "You do NOT need to implement checkpoints.\n",
    "\n",
    "**Retain the results in the your Colab Notebook for submission**.\n",
    "\n",
    "*HINT: A reasonable validation accuracy should be >= 85%*\n"
   ]
  },
  {
   "cell_type": "code",
   "execution_count": 0,
   "metadata": {
    "colab": {
     "base_uri": "https://localhost:8080/",
     "height": 500
    },
    "colab_type": "code",
    "executionInfo": {
     "elapsed": 265,
     "status": "ok",
     "timestamp": 1582455385732,
     "user": {
      "displayName": "padmapriya s",
      "photoUrl": "",
      "userId": "00004377721832553343"
     },
     "user_tz": -480
    },
    "id": "k-pHxwwGnifj",
    "outputId": "9249bebf-3192-4040-b1b9-f7817a5a1648"
   },
   "outputs": [
    {
     "name": "stdout",
     "output_type": "stream",
     "text": [
      "INFO:tensorflow:Saver not created because there are no variables in the graph to restore\n"
     ]
    },
    {
     "name": "stderr",
     "output_type": "stream",
     "text": [
      "INFO:tensorflow:Saver not created because there are no variables in the graph to restore\n"
     ]
    },
    {
     "name": "stdout",
     "output_type": "stream",
     "text": [
      "Model: \"model_2\"\n",
      "_________________________________________________________________\n",
      "Layer (type)                 Output Shape              Param #   \n",
      "=================================================================\n",
      "input_3 (InputLayer)         [(None, 36)]              0         \n",
      "_________________________________________________________________\n",
      "elmo_embedding_layer_2 (Elmo (None, None, 1024)        4         \n",
      "_________________________________________________________________\n",
      "bidirectional_2 (Bidirection (None, None, 1024)        6295552   \n",
      "_________________________________________________________________\n",
      "time_distributed_2 (TimeDist (None, None, 17)          17425     \n",
      "=================================================================\n",
      "Total params: 6,312,981\n",
      "Trainable params: 6,312,981\n",
      "Non-trainable params: 0\n",
      "_________________________________________________________________\n",
      "Train on 7660 samples, validate on 1521 samples\n",
      "Epoch 1/5\n",
      "7660/7660 [==============================] - 130s 17ms/sample - loss: 0.1094 - acc: 0.8708 - val_loss: 0.0820 - val_acc: 0.9000\n",
      "Epoch 2/5\n",
      "7660/7660 [==============================] - 122s 16ms/sample - loss: 0.0671 - acc: 0.9157 - val_loss: 0.0774 - val_acc: 0.9054\n",
      "Epoch 3/5\n",
      "7660/7660 [==============================] - 119s 16ms/sample - loss: 0.0518 - acc: 0.9337 - val_loss: 0.0790 - val_acc: 0.9031\n",
      "Epoch 4/5\n",
      "7660/7660 [==============================] - 118s 15ms/sample - loss: 0.0397 - acc: 0.9481 - val_loss: 0.0821 - val_acc: 0.9045\n",
      "Epoch 5/5\n",
      "7660/7660 [==============================] - 118s 15ms/sample - loss: 0.0296 - acc: 0.9604 - val_loss: 0.0883 - val_acc: 0.9003\n"
     ]
    }
   ],
   "source": [
    "# TODO:\n",
    "# Create your model and train it with your data.\n",
    "\n",
    "#.............CODES START HERE.............#\n",
    "model = create_model()\n",
    "model.summary()\n",
    "\n",
    "\n",
    "# Create the training folder\n",
    "#\n",
    "training_session_id = datetime.now().strftime(\"%Y-%m-%d %H-%M-%S\")\n",
    "training_session_folder = folder + '/train_%s' % (training_session_id)\n",
    "os.makedirs(training_session_folder, exist_ok=True)\n",
    "\n",
    "\n",
    "# Configure the checkpoint and stop point.\n",
    "# This allows the training to save the best models and also stop the\n",
    "# training early if it detects that there are no improvements after\n",
    "# a long time.\n",
    "#\n",
    "callbacks_list = [\n",
    "    keras.callbacks.ModelCheckpoint(\n",
    "        filepath=training_session_folder + '/model.{epoch:04d}-acc-{acc:4.2f}-val_acc-{val_acc:4.2f}-loss-{val_loss:4.2f}.h5',\n",
    "        monitor='val_loss', save_best_only=True),\n",
    "    keras.callbacks.EarlyStopping(monitor='val_loss', patience=100)\n",
    "]\n",
    "\n",
    "\n",
    "# TODO:\n",
    "# Train our model\n",
    "#\n",
    "history = model.fit(x=x_train, y=y_train, batch_size=20, epochs=5, \n",
    "                        callbacks=callbacks_list, validation_data=(x_test, y_test))\n",
    "\n",
    "#.............CODES END HERE.............#\n",
    "\n"
   ]
  },
  {
   "cell_type": "code",
   "execution_count": 0,
   "metadata": {
    "colab": {
     "base_uri": "https://localhost:8080/",
     "height": 50
    },
    "colab_type": "code",
    "executionInfo": {
     "elapsed": 3027,
     "status": "ok",
     "timestamp": 1582455547449,
     "user": {
      "displayName": "padmapriya s",
      "photoUrl": "",
      "userId": "00004377721832553343"
     },
     "user_tz": -480
    },
    "id": "O3QUEO9hkOB4",
    "outputId": "ceae96ab-69f5-4254-a293-c901825255c6"
   },
   "outputs": [
    {
     "name": "stdout",
     "output_type": "stream",
     "text": [
      "Best model file:\n",
      "/content/drive/My Drive/Data/A2//train_2020-02-23 10-42-11/model.0002-acc-0.92-val_acc-0.91-loss-0.08.h5\n"
     ]
    }
   ],
   "source": [
    "import glob\n",
    "\n",
    "# List all the .h5 files generated in your training folder.\n",
    "#\n",
    "list_of_files = glob.glob(training_session_folder + '/*')  \n",
    "list_of_files.sort()\n",
    "best_model_file = list_of_files[-1]\n",
    "\n",
    "print (\"Best model file:\")\n",
    "print (best_model_file)\n",
    "\n",
    "# And save it into another file.\n",
    "#\n",
    "model.save(training_session_folder + \"/best_model_file.h5\")"
   ]
  },
  {
   "cell_type": "markdown",
   "metadata": {
    "colab_type": "text",
    "id": "msWJt5eKfDZa"
   },
   "source": [
    "## A2.11 Evaluate Your Training and Model Performance \n",
    "\n",
    "Modify the following code below to evaluate your performance by calling the **display_training_loss_and_accuracy** and the **display_classification_confusion_matrix** methods.\n",
    "\n",
    "**Retain the results in the your Colab Notebook for submission**.\n"
   ]
  },
  {
   "cell_type": "code",
   "execution_count": 0,
   "metadata": {
    "colab": {
     "base_uri": "https://localhost:8080/",
     "height": 1000
    },
    "colab_type": "code",
    "executionInfo": {
     "elapsed": 59500,
     "status": "ok",
     "timestamp": 1582455610506,
     "user": {
      "displayName": "padmapriya s",
      "photoUrl": "",
      "userId": "00004377721832553343"
     },
     "user_tz": -480
    },
    "id": "Jy-gMqqZHIpK",
    "outputId": "012dbc71-af3c-40b5-deb2-324f7b599725"
   },
   "outputs": [
    {
     "data": {
      "image/png": "[encoded data removed]",
      "text/plain": [
       "<Figure size 1440x432 with 4 Axes>"
      ]
     },
     "metadata": {
      "tags": []
     },
     "output_type": "display_data"
    },
    {
     "name": "stdout",
     "output_type": "stream",
     "text": [
      "Train Data:\n",
      "--------------------------------------------------------\n",
      "                   precision    recall  f1-score   support\n",
      "\n",
      "                O       1.00      1.00      1.00    248905\n",
      "         B-Rating       0.97      0.86      0.91      1070\n",
      "         I-Rating       0.93      0.98      0.95       527\n",
      "        B-Amenity       0.92      0.96      0.94      2541\n",
      "        I-Amenity       0.94      0.96      0.95      2676\n",
      "       B-Location       0.98      0.97      0.97      3817\n",
      "       I-Location       0.97      0.96      0.96      3658\n",
      "          B-Price       0.99      0.98      0.99       730\n",
      "          I-Price       0.99      0.96      0.97       283\n",
      "          B-Hours       0.96      0.85      0.90       990\n",
      "          I-Hours       0.96      0.99      0.97      1283\n",
      "B-Restaurant_Name       1.00      0.99      0.99      1901\n",
      "I-Restaurant_Name       0.99      0.99      0.99      1668\n",
      "           B-Dish       0.96      0.92      0.94      1475\n",
      "           I-Dish       0.98      0.97      0.98       767\n",
      "        B-Cuisine       0.96      0.96      0.96      2839\n",
      "        I-Cuisine       0.96      0.95      0.96       630\n",
      "\n",
      "         accuracy                           0.99    275760\n",
      "        macro avg       0.97      0.96      0.96    275760\n",
      "     weighted avg       0.99      0.99      0.99    275760\n",
      "\n",
      "\n",
      "Test Data:\n",
      "--------------------------------------------------------\n",
      "                   precision    recall  f1-score   support\n",
      "\n",
      "                O       0.99      0.99      0.99     49159\n",
      "         B-Rating       0.87      0.74      0.80       201\n",
      "         I-Rating       0.86      0.76      0.81       125\n",
      "        B-Amenity       0.69      0.78      0.73       533\n",
      "        I-Amenity       0.74      0.75      0.75       524\n",
      "       B-Location       0.90      0.85      0.88       812\n",
      "       I-Location       0.88      0.86      0.87       788\n",
      "          B-Price       0.87      0.84      0.85       171\n",
      "          I-Price       0.78      0.68      0.73        66\n",
      "          B-Hours       0.74      0.60      0.66       212\n",
      "          I-Hours       0.81      0.89      0.85       295\n",
      "B-Restaurant_Name       0.93      0.87      0.90       402\n",
      "I-Restaurant_Name       0.88      0.83      0.85       392\n",
      "           B-Dish       0.84      0.77      0.80       288\n",
      "           I-Dish       0.79      0.77      0.78       121\n",
      "        B-Cuisine       0.84      0.88      0.86       532\n",
      "        I-Cuisine       0.74      0.64      0.69       135\n",
      "\n",
      "         accuracy                           0.97     54756\n",
      "        macro avg       0.83      0.79      0.81     54756\n",
      "     weighted avg       0.97      0.97      0.97     54756\n",
      "\n"
     ]
    }
   ],
   "source": [
    "#------------------------------------------------------------------------------------------\n",
    "\n",
    "import matplotlib.pyplot as plt\n",
    "\n",
    "# This function is used to display the history the train/test accuracy/loss\n",
    "# of the Keras training.\n",
    "#\n",
    "#   history - Pass in the history returned from the model.fit(...) method.\n",
    "#\n",
    "def display_training_loss_and_accuracy(history):\n",
    "    \n",
    "    plt.figure(figsize=(20,4))\n",
    "    \n",
    "    # summarize history for accuracy\n",
    "    plt.subplot(1, 2, 1)\n",
    "    plt.plot(history.history['acc'])\n",
    "    plt.plot(history.history['val_acc'])\n",
    "    plt.title('model accuracy')\n",
    "    plt.ylabel('accuracy')\n",
    "    plt.xlabel('epoch')\n",
    "    plt.legend(['train', 'test'], loc='upper left')\n",
    "    \n",
    "    # summarize history for loss\n",
    "    plt.subplot(1, 2, 2)\n",
    "    plt.plot(history.history['loss'])\n",
    "    plt.plot(history.history['val_loss'])\n",
    "    plt.title('model loss')\n",
    "    plt.ylabel('loss')\n",
    "    plt.xlabel('epoch')\n",
    "    plt.legend(['train', 'test'], loc='upper right')\n",
    "    plt.show()    \n",
    "\n",
    "\n",
    "#------------------------------------------------------------------------------------------\n",
    "\n",
    "import numpy as np\n",
    "import pandas as pd\n",
    "from sklearn.metrics import confusion_matrix, classification_report\n",
    "import seaborn as sns\n",
    "import matplotlib.pyplot as plt\n",
    "from functools import reduce\n",
    " \n",
    "def display_classification_confusion_matrix(keras_model, x_train, y_train, x_test, y_test, labels, mask=None):\n",
    "    \n",
    "    last_axis = len(y_train.shape) - 1\n",
    "    axis1 = y_train.shape[last_axis]\n",
    "    y_train_axis0 = int(reduce(lambda x, y: x * y, y_train.shape) / y_train.shape[last_axis])\n",
    "    y_test_axis0 = int(reduce(lambda x, y: x * y, y_test.shape) / y_train.shape[last_axis])\n",
    "\n",
    "    pred_y_train = keras_model.predict(x_train)\n",
    "    pred_y_test = keras_model.predict(x_test)\n",
    "    \n",
    "    if y_train.shape != pred_y_train.shape:\n",
    "        print (\"The y_train array does not have the same shape as the result from keras_model.predict(x_train)\")\n",
    "        return \n",
    "    if y_test.shape != pred_y_test.shape:\n",
    "        print (\"The y_train array does not have the same shape as the result from keras_model.predict(x_train)\")\n",
    "        return \n",
    "    \n",
    "    y_train = y_train.reshape((y_train_axis0, axis1))\n",
    "    y_test = y_test.reshape((y_test_axis0, axis1))\n",
    "    pred_y_train = pred_y_train.reshape((y_train_axis0, axis1))\n",
    "    pred_y_test = pred_y_test.reshape((y_test_axis0, axis1))\n",
    "    \n",
    "    plt.figure(figsize=(20,6))  \n",
    "\n",
    "    labels = np.array(labels)\n",
    "    if mask is not None:\n",
    "        labels_masked = labels[mask]\n",
    "    else:\n",
    "        labels_masked = labels\n",
    "\n",
    "    # Convert the target labels into the categorical index\n",
    "    #\n",
    "    y_train_index = y_train.argmax(axis=1)\n",
    "    pred_y_train_index = pred_y_train.argmax(axis=1)\n",
    "    y_test_index = y_test.argmax(axis=1)\n",
    "    pred_y_test_index = pred_y_test.argmax(axis=1)\n",
    "    \n",
    "    # Print the first Confusion Matrix for the training data\n",
    "    #\n",
    "    cm = confusion_matrix(y_train_index, pred_y_train_index)\n",
    "    if mask is not None:\n",
    "        cm = cm[:, mask][mask, :]\n",
    "\n",
    "    cm_df = pd.DataFrame(cm, labels_masked, labels_masked)          \n",
    "    plt.subplot(1, 2, 1)\n",
    "    plt.title('Confusion Matrix (Train Data)')\n",
    "    sns.heatmap(cm_df, annot=True)\n",
    "    plt.ylabel('Actual')\n",
    "    plt.xlabel('Predicted')        \n",
    "    \n",
    "    # Print the second Confusion Matrix for the test data\n",
    "    #    \n",
    "    cm = confusion_matrix(y_test_index, pred_y_test_index)\n",
    "    if mask is not None:\n",
    "        cm = cm[:, mask][mask, :]\n",
    "    \n",
    "    cm_df = pd.DataFrame(cm, labels_masked, labels_masked)          \n",
    "    plt.subplot(1, 2, 2)\n",
    "    plt.title('Confusion Matrix (Test Data)')\n",
    "    sns.heatmap(cm_df, annot=True)\n",
    "    plt.ylabel('Actual')\n",
    "    plt.xlabel('Predicted')        \n",
    "    \n",
    "    plt.show()\n",
    "\n",
    "    # Finally display the classification reports\n",
    "    #\n",
    "    print (\"Train Data:\")\n",
    "    print (\"--------------------------------------------------------\")\n",
    "    print(classification_report(y_train_index, pred_y_train_index, target_names=labels))\n",
    "    print (\"\")\n",
    "    print (\"Test Data:\")\n",
    "    print (\"--------------------------------------------------------\")\n",
    "    print(classification_report(y_test_index, pred_y_test_index, target_names=labels))\n",
    "    \n",
    "\n",
    "\n",
    "#.............CODES START HERE.............#\n",
    "# Exclude the O tags from the confusion matrix.\n",
    "#\n",
    "display_classification_confusion_matrix(model, x_train, y_train, x_test, y_test, list(entity_to_index.keys()), [1,2,3,4,5,6,7,8,9,10,11,12,13,14,15,16])\n",
    "#.............CODES END HERE.............#\n"
   ]
  },
  {
   "cell_type": "markdown",
   "metadata": {
    "colab_type": "text",
    "id": "LSe2-ePVWJKz"
   },
   "source": [
    "## A2.12 Test Your Model \n",
    "\n",
    "The last section here allows you to test your model. \n",
    "\n",
    "Write the necessary code below to predict the recognized class for each word in the sentences in the **mytext** list. Your output must look like the following:\n",
    "\n",
    "```\n",
    "    i                             : O \n",
    "    am                            : O \n",
    "    hungry                        : O \n",
    "    and                           : O \n",
    "    would                         : O \n",
    "    like                          : O \n",
    "    to                            : O \n",
    "    get                           : O \n",
    "    some                          : O \n",
    "    spaghetti                     : B-Dish \n",
    "    from                          : O \n",
    "    an                            : O \n",
    "    italian                       : B-Cuisine \n",
    "    restaurant                    : O \n",
    "    ---\n",
    "    how                           : O \n",
    "    about                         : O \n",
    "    some                          : O \n",
    "    chinese                       : B-Cuisine \n",
    "    food                          : O \n",
    "    from                          : O \n",
    "    tian                          : B-Dish \n",
    "    chai                          : I-Dish \n",
    "    from                          : O \n",
    "    across                        : B-Location \n",
    "    the                           : I-Location \n",
    "    street                        : I-Location \n",
    "    ---\n",
    "```\n"
   ]
  },
  {
   "cell_type": "code",
   "execution_count": 0,
   "metadata": {
    "colab": {
     "base_uri": "https://localhost:8080/",
     "height": 516
    },
    "colab_type": "code",
    "executionInfo": {
     "elapsed": 1227,
     "status": "ok",
     "timestamp": 1582455923912,
     "user": {
      "displayName": "padmapriya s",
      "photoUrl": "",
      "userId": "00004377721832553343"
     },
     "user_tz": -480
    },
    "id": "OOMaCABaWJoG",
    "outputId": "70a8bc18-5378-4930-9372-1ee8718dc8a9"
   },
   "outputs": [
    {
     "name": "stdout",
     "output_type": "stream",
     "text": [
      "[['i' 'am' 'hungry' 'and' 'would' 'like' 'to' 'get' 'some' 'spaghetti'\n",
      "  'from' 'an' 'italian' 'restauranthow' 'about' 'some' 'chinese' 'food'\n",
      "  'from' 'tian' 'chai' 'from' 'across' 'the' 'street' '--PAD--' '--PAD--'\n",
      "  '--PAD--' '--PAD--' '--PAD--' '--PAD--' '--PAD--' '--PAD--' '--PAD--'\n",
      "  '--PAD--' '--PAD--']]\n",
      "i                             : O \n",
      "am                            : O \n",
      "hungry                        : O \n",
      "and                           : O \n",
      "would                         : O \n",
      "like                          : O \n",
      "to                            : O \n",
      "get                           : O \n",
      "some                          : O \n",
      "spaghetti                     : B-Dish \n",
      "from                          : O \n",
      "an                            : O \n",
      "italian                       : B-Cuisine \n",
      "restauranthow                 : O \n",
      "about                         : O \n",
      "some                          : O \n",
      "chinese                       : B-Cuisine \n",
      "food                          : O \n",
      "from                          : O \n",
      "tian                          : B-Dish \n",
      "chai                          : I-Dish \n",
      "from                          : O \n",
      "across                        : B-Location \n",
      "the                           : I-Location \n",
      "street                        : I-Location \n"
     ]
    }
   ],
   "source": [
    "sentence=\"\"\n",
    "mytext = [\"i am hungry and would like to get some spaghetti from an italian restaurant\",  \n",
    "          \"how about some chinese food from tian chai from across the street\"]\n",
    "\n",
    "# TODO:\n",
    "# Process and predict your data and then print the prediction\n",
    "# of word to class.\n",
    "#.............CODES START HERE.............#\n",
    "# Process the input into a np array of words\n",
    "\n",
    "sentence = ''.join(mytext)\n",
    "s_input = [keras.preprocessing.text.text_to_word_sequence(sentence)]\n",
    "s_input = keras.preprocessing.sequence.pad_sequences(s_input, maxlen=36, dtype=object, padding='post', value=\"--PAD--\")\n",
    "\n",
    "print(s_input)\n",
    "\n",
    "# Predict\n",
    "y = model.predict(s_input)\n",
    "best_class = np.argmax(y, axis=2)\n",
    "\n",
    "# Print the result\n",
    "for i in range(len(s_input[0])):\n",
    "    if s_input[0][i] == '--PAD--':\n",
    "        break\n",
    "    \n",
    "    for label, value in entity_to_index.items():   \n",
    "        if value == best_class[0][i]:\n",
    "            print (\"%-30s: %s \" % (s_input[0][i], label))\n",
    "\n",
    "#.............CODES END HERE.............#\n",
    "\n"
   ]
  },
  {
   "cell_type": "markdown",
   "metadata": {
    "colab_type": "text",
    "id": "uh3W4VllN0N1"
   },
   "source": [
    "## A2.13 What Potential Applications with This? \n",
    "\n",
    "Now that you have trained your Keras model using the ELmo Embedding, propose what potential application you can create from this? You should avoid applications such as chatbots or tag suggestions. \n",
    "\n",
    "A good proposed application will be able make use of new Deep Learning models but must include the ELmo-LSTM model that you have trained above.\n",
    "\n",
    "In your description explain the following:\n",
    "\n",
    "1. What the potential applications are that your company can do with this particular datset.\n",
    "2. How your users will be able to benefit from this solution?\n",
    "3. What additional models or AI capabilities do you need to complete your solution?\n",
    "4. What additional datasets that your company might have to train the additional models?\n",
    "\n",
    ".............ANSWER STARTS HERE.............\n",
    "\n",
    "**1. What the potential applications are that your company can do with this particular dataset?** \n",
    "\n",
    "  We can create a dataset 'Restaurant details in Singapore (Any city name) containing the features like restaurant names, ratings, prices, locations, cuisines, working hrs. etc., by using the model we have trained above \n",
    "We can build a ML model on this Restaurant details dataset to get more insights and develop the following applications \n",
    "\n",
    "  i) ***Restaurant Recommendation system with integrated location recommndation***: for the users who want to eat out\n",
    "    \n",
    "*   Recommending popular cuisines /popular restaurants for each cuisine / popular menu item in each restaurant in a city\n",
    "*   Recommending based on the amenities, for example older and Physically challenged people prefer to go to restaurant having wheelchair access and with parking or with drop off facility. \n",
    "*  If the user using my chatbot on mobile phone or website and allows location tracking, it can recommend nearby restaurants and cuisines based on the user history preference\n",
    "\n",
    "ii) ***Location based Recommendation System***: for the users who want to start restaurant business or trying to expand restaurant branches\n",
    "* Recommending the best place to start a restaurant\n",
    "* Best cuisine for a specific location (For example, more Chinese people will visit Chinatown, so keeping Chinese restaurant is the most visible and preferred choice)\n",
    "    \n",
    "iii) ***Consumer Sentiment Analysis*** : For the restaurant owners \n",
    "* To understand how the customers, feel about their food, service and ambience, so that it will improve their sales\n",
    "* What are the negative reviews, which they need to focus and address immediately, so that it won’t impact the sales negatively\n",
    "    \n",
    "iv) ***Price Trend Analysis*** : For the restaurant owners \n",
    "* To find the competitive price for each item based on the market trend, how much an item is priced by their competitive brands and how customer feels about the price they have kept for their item\n",
    "\n",
    "\n",
    "\n",
    "**2. How your users will be able to benefit from this solution?**\n",
    "\n",
    "   We can use our work to improve overall user experience for the users who use our website/ chatbot. We cater multiple types of users. For example, I have given set of users who may be benefitted benefit from our analysis\n",
    "    \n",
    "***Users who are looking for restaurant suggestions for eating out***\n",
    "*   They can find best rated restaurant to eat and suggestions about the menu item and availability of other amenities like parking, aircon, support payment using card etc, so they can avoid inconvenience. \n",
    "   \n",
    "***Business Users/ Users who want to set up a restaurant***\n",
    "*    Our application Will provide best place to set a cuisine which can generate maximum revenue, so they won't get disappointed later after investing so much in their business\n",
    "   \n",
    "***To the government enforcement authorities / inspectors***\n",
    "    \n",
    "*   Enforcement authorities normally don't get a chance to check with users to verify the quality of the food and other facilities often\n",
    "\n",
    "*   Using our application, they can directly get to know users’ feedback, so that they can revoke the restaurant license or to take other enforcement action over the restaurant which doesn't comply to government regulations and requirements. \n",
    "   \n",
    "***To the government finance/budget planning authorities***\n",
    "*  To know how much an average citizen is spending on food, so they can set a budget amount to support people of lower income category. \n",
    "*  Prices usually increase/vary over time. Government subsidies need to be adjusted based on the current price, to support the needy people otherwise people won't benefitted thru the subsidies\n",
    "\n",
    "**3. What additional models or AI capabilities do you need to complete your solution?**\n",
    "\n",
    " We need to build a typical ML model using SVM (As SVM works well with Categorical data and content-based recommender or collaborative filtering), we need to use one hot encoding to encode categorical variables and a build recommender system\n",
    "   \n",
    "**4. What additional datasets that your company might have to train the additional models?**\n",
    "    \n",
    "  \n",
    "*   The dataset which we are getting through our application is good enough to find insights of restaurants\n",
    "\n",
    "*   If we get details of the user including the location details (latitude/longitude), of that of the users who are going to use the recommendation system, we can get a lot more information and insights from the data, which includes matching the type of consumers (**age, gender, culture, income, Parking Needed, Needed wheel chair access**, ) with the right cuisines and restaurants. \n",
    "*   For example, a person with more disposable cash may more often go for a higher star rated restaurant, which is very usually more expensive to dine in.\n",
    "\n",
    "\n",
    "\n",
    ".............ANSWER ENDS HERE............."
   ]
  },
  {
   "cell_type": "markdown",
   "metadata": {
    "colab_type": "text",
    "id": "8JbX2Mbb8F4G"
   },
   "source": []
  }
 ],
 "metadata": {
  "accelerator": "GPU",
  "colab": {
   "collapsed_sections": [],
   "machine_shape": "hm",
   "name": "ITI108 Assignment 2.ipynb",
   "provenance": []
  },
  "kernelspec": {
   "display_name": "Python 3",
   "language": "python",
   "name": "python3"
  },
  "language_info": {
   "codemirror_mode": {
    "name": "ipython",
    "version": 3
   },
   "file_extension": ".py",
   "mimetype": "text/x-python",
   "name": "python",
   "nbconvert_exporter": "python",
   "pygments_lexer": "ipython3",
   "version": "3.7.3"
  },
  "toc": {
   "base_numbering": 1,
   "nav_menu": {},
   "number_sections": true,
   "sideBar": true,
   "skip_h1_title": false,
   "title_cell": "Table of Contents",
   "title_sidebar": "Contents",
   "toc_cell": false,
   "toc_position": {},
   "toc_section_display": true,
   "toc_window_display": false
  },
  "varInspector": {
   "cols": {
    "lenName": 16,
    "lenType": 16,
    "lenVar": 40
   },
   "kernels_config": {
    "python": {
     "delete_cmd_postfix": "",
     "delete_cmd_prefix": "del ",
     "library": "var_list.py",
     "varRefreshCmd": "print(var_dic_list())"
    },
    "r": {
     "delete_cmd_postfix": ") ",
     "delete_cmd_prefix": "rm(",
     "library": "var_list.r",
     "varRefreshCmd": "cat(var_dic_list()) "
    }
   },
   "types_to_exclude": [
    "module",
    "function",
    "builtin_function_or_method",
    "instance",
    "_Feature"
   ],
   "window_display": false
  }
 },
 "nbformat": 4,
 "nbformat_minor": 1
}
